{
 "cells": [
  {
   "cell_type": "markdown",
   "metadata": {},
   "source": [
    "# Income Prediction "
   ]
  },
  {
   "cell_type": "code",
   "execution_count": 1,
   "metadata": {},
   "outputs": [],
   "source": [
    "import numpy as np\n",
    "import pandas as pd"
   ]
  },
  {
   "cell_type": "markdown",
   "metadata": {},
   "source": [
    "## Import Training Data"
   ]
  },
  {
   "cell_type": "code",
   "execution_count": 2,
   "metadata": {
    "scrolled": true
   },
   "outputs": [
    {
     "data": {
      "text/html": [
       "<div>\n",
       "<style scoped>\n",
       "    .dataframe tbody tr th:only-of-type {\n",
       "        vertical-align: middle;\n",
       "    }\n",
       "\n",
       "    .dataframe tbody tr th {\n",
       "        vertical-align: top;\n",
       "    }\n",
       "\n",
       "    .dataframe thead th {\n",
       "        text-align: right;\n",
       "    }\n",
       "</style>\n",
       "<table border=\"1\" class=\"dataframe\">\n",
       "  <thead>\n",
       "    <tr style=\"text-align: right;\">\n",
       "      <th></th>\n",
       "      <th>Instance</th>\n",
       "      <th>Year of Record</th>\n",
       "      <th>Gender</th>\n",
       "      <th>Age</th>\n",
       "      <th>Country</th>\n",
       "      <th>Size of City</th>\n",
       "      <th>Profession</th>\n",
       "      <th>University Degree</th>\n",
       "      <th>Wears Glasses</th>\n",
       "      <th>Hair Color</th>\n",
       "      <th>Body Height [cm]</th>\n",
       "      <th>Income in EUR</th>\n",
       "    </tr>\n",
       "  </thead>\n",
       "  <tbody>\n",
       "    <tr>\n",
       "      <th>0</th>\n",
       "      <td>1</td>\n",
       "      <td>1997.0</td>\n",
       "      <td>0</td>\n",
       "      <td>41.0</td>\n",
       "      <td>Belarus</td>\n",
       "      <td>1239930</td>\n",
       "      <td>steel workers</td>\n",
       "      <td>Bachelor</td>\n",
       "      <td>0</td>\n",
       "      <td>Blond</td>\n",
       "      <td>193</td>\n",
       "      <td>61031.94416</td>\n",
       "    </tr>\n",
       "    <tr>\n",
       "      <th>1</th>\n",
       "      <td>2</td>\n",
       "      <td>1996.0</td>\n",
       "      <td>other</td>\n",
       "      <td>41.0</td>\n",
       "      <td>Singapore</td>\n",
       "      <td>1603504</td>\n",
       "      <td>safe event coordinator</td>\n",
       "      <td>Master</td>\n",
       "      <td>0</td>\n",
       "      <td>Black</td>\n",
       "      <td>186</td>\n",
       "      <td>91001.32764</td>\n",
       "    </tr>\n",
       "    <tr>\n",
       "      <th>2</th>\n",
       "      <td>3</td>\n",
       "      <td>2018.0</td>\n",
       "      <td>other</td>\n",
       "      <td>28.0</td>\n",
       "      <td>Norway</td>\n",
       "      <td>1298017</td>\n",
       "      <td>receivables/payables analyst</td>\n",
       "      <td>PhD</td>\n",
       "      <td>1</td>\n",
       "      <td>Brown</td>\n",
       "      <td>170</td>\n",
       "      <td>157982.17670</td>\n",
       "    </tr>\n",
       "    <tr>\n",
       "      <th>3</th>\n",
       "      <td>4</td>\n",
       "      <td>2006.0</td>\n",
       "      <td>other</td>\n",
       "      <td>33.0</td>\n",
       "      <td>Cuba</td>\n",
       "      <td>751903</td>\n",
       "      <td>fleet assistant</td>\n",
       "      <td>No</td>\n",
       "      <td>1</td>\n",
       "      <td>Black</td>\n",
       "      <td>171</td>\n",
       "      <td>45993.75793</td>\n",
       "    </tr>\n",
       "    <tr>\n",
       "      <th>4</th>\n",
       "      <td>5</td>\n",
       "      <td>2010.0</td>\n",
       "      <td>female</td>\n",
       "      <td>46.0</td>\n",
       "      <td>United Arab Emirates</td>\n",
       "      <td>95389</td>\n",
       "      <td>lead trainer</td>\n",
       "      <td>0</td>\n",
       "      <td>0</td>\n",
       "      <td>Blond</td>\n",
       "      <td>188</td>\n",
       "      <td>38022.16217</td>\n",
       "    </tr>\n",
       "  </tbody>\n",
       "</table>\n",
       "</div>"
      ],
      "text/plain": [
       "   Instance  Year of Record  Gender   Age               Country  Size of City  \\\n",
       "0         1          1997.0       0  41.0               Belarus       1239930   \n",
       "1         2          1996.0   other  41.0             Singapore       1603504   \n",
       "2         3          2018.0   other  28.0                Norway       1298017   \n",
       "3         4          2006.0   other  33.0                  Cuba        751903   \n",
       "4         5          2010.0  female  46.0  United Arab Emirates         95389   \n",
       "\n",
       "                     Profession University Degree  Wears Glasses Hair Color  \\\n",
       "0                 steel workers          Bachelor              0      Blond   \n",
       "1        safe event coordinator            Master              0      Black   \n",
       "2  receivables/payables analyst               PhD              1      Brown   \n",
       "3               fleet assistant                No              1      Black   \n",
       "4                  lead trainer                 0              0      Blond   \n",
       "\n",
       "   Body Height [cm]  Income in EUR  \n",
       "0               193    61031.94416  \n",
       "1               186    91001.32764  \n",
       "2               170   157982.17670  \n",
       "3               171    45993.75793  \n",
       "4               188    38022.16217  "
      ]
     },
     "execution_count": 2,
     "metadata": {},
     "output_type": "execute_result"
    }
   ],
   "source": [
    "df_input = pd.read_csv('tcd ml 2019-20 income prediction training (with labels).csv')\n",
    "df_input.head()"
   ]
  },
  {
   "cell_type": "markdown",
   "metadata": {},
   "source": [
    "## Import Test Data"
   ]
  },
  {
   "cell_type": "code",
   "execution_count": 3,
   "metadata": {},
   "outputs": [
    {
     "data": {
      "text/html": [
       "<div>\n",
       "<style scoped>\n",
       "    .dataframe tbody tr th:only-of-type {\n",
       "        vertical-align: middle;\n",
       "    }\n",
       "\n",
       "    .dataframe tbody tr th {\n",
       "        vertical-align: top;\n",
       "    }\n",
       "\n",
       "    .dataframe thead th {\n",
       "        text-align: right;\n",
       "    }\n",
       "</style>\n",
       "<table border=\"1\" class=\"dataframe\">\n",
       "  <thead>\n",
       "    <tr style=\"text-align: right;\">\n",
       "      <th></th>\n",
       "      <th>Instance</th>\n",
       "      <th>Year of Record</th>\n",
       "      <th>Gender</th>\n",
       "      <th>Age</th>\n",
       "      <th>Country</th>\n",
       "      <th>Size of City</th>\n",
       "      <th>Profession</th>\n",
       "      <th>University Degree</th>\n",
       "      <th>Wears Glasses</th>\n",
       "      <th>Hair Color</th>\n",
       "      <th>Body Height [cm]</th>\n",
       "      <th>Income</th>\n",
       "    </tr>\n",
       "  </thead>\n",
       "  <tbody>\n",
       "    <tr>\n",
       "      <th>0</th>\n",
       "      <td>111994</td>\n",
       "      <td>1992.0</td>\n",
       "      <td>other</td>\n",
       "      <td>21.0</td>\n",
       "      <td>Honduras</td>\n",
       "      <td>391652</td>\n",
       "      <td>senior project analyst</td>\n",
       "      <td>Master</td>\n",
       "      <td>1</td>\n",
       "      <td>Brown</td>\n",
       "      <td>153</td>\n",
       "      <td>NaN</td>\n",
       "    </tr>\n",
       "    <tr>\n",
       "      <th>1</th>\n",
       "      <td>111995</td>\n",
       "      <td>1986.0</td>\n",
       "      <td>other</td>\n",
       "      <td>34.0</td>\n",
       "      <td>Kyrgyzstan</td>\n",
       "      <td>33653</td>\n",
       "      <td>greeter</td>\n",
       "      <td>Bachelor</td>\n",
       "      <td>0</td>\n",
       "      <td>Black</td>\n",
       "      <td>163</td>\n",
       "      <td>NaN</td>\n",
       "    </tr>\n",
       "    <tr>\n",
       "      <th>2</th>\n",
       "      <td>111996</td>\n",
       "      <td>1994.0</td>\n",
       "      <td>unknown</td>\n",
       "      <td>53.0</td>\n",
       "      <td>Portugal</td>\n",
       "      <td>34765</td>\n",
       "      <td>liaison</td>\n",
       "      <td>Bachelor</td>\n",
       "      <td>1</td>\n",
       "      <td>Blond</td>\n",
       "      <td>153</td>\n",
       "      <td>NaN</td>\n",
       "    </tr>\n",
       "    <tr>\n",
       "      <th>3</th>\n",
       "      <td>111997</td>\n",
       "      <td>1984.0</td>\n",
       "      <td>0</td>\n",
       "      <td>29.0</td>\n",
       "      <td>Uruguay</td>\n",
       "      <td>1494132</td>\n",
       "      <td>occupational therapist</td>\n",
       "      <td>No</td>\n",
       "      <td>0</td>\n",
       "      <td>Black</td>\n",
       "      <td>154</td>\n",
       "      <td>NaN</td>\n",
       "    </tr>\n",
       "    <tr>\n",
       "      <th>4</th>\n",
       "      <td>111998</td>\n",
       "      <td>2007.0</td>\n",
       "      <td>other</td>\n",
       "      <td>17.0</td>\n",
       "      <td>Serbia</td>\n",
       "      <td>120661</td>\n",
       "      <td>portfolio manager</td>\n",
       "      <td>No</td>\n",
       "      <td>0</td>\n",
       "      <td>Red</td>\n",
       "      <td>191</td>\n",
       "      <td>NaN</td>\n",
       "    </tr>\n",
       "  </tbody>\n",
       "</table>\n",
       "</div>"
      ],
      "text/plain": [
       "   Instance  Year of Record   Gender   Age     Country  Size of City  \\\n",
       "0    111994          1992.0    other  21.0    Honduras        391652   \n",
       "1    111995          1986.0    other  34.0  Kyrgyzstan         33653   \n",
       "2    111996          1994.0  unknown  53.0    Portugal         34765   \n",
       "3    111997          1984.0        0  29.0     Uruguay       1494132   \n",
       "4    111998          2007.0    other  17.0      Serbia        120661   \n",
       "\n",
       "               Profession University Degree  Wears Glasses Hair Color  \\\n",
       "0  senior project analyst            Master              1      Brown   \n",
       "1                 greeter          Bachelor              0      Black   \n",
       "2                 liaison          Bachelor              1      Blond   \n",
       "3  occupational therapist                No              0      Black   \n",
       "4       portfolio manager                No              0        Red   \n",
       "\n",
       "   Body Height [cm]  Income  \n",
       "0               153     NaN  \n",
       "1               163     NaN  \n",
       "2               153     NaN  \n",
       "3               154     NaN  \n",
       "4               191     NaN  "
      ]
     },
     "execution_count": 3,
     "metadata": {},
     "output_type": "execute_result"
    }
   ],
   "source": [
    "df_test = pd.read_csv('Data/tcd ml 2019-20 income prediction test (without labels).csv')\n",
    "df_test.head()"
   ]
  },
  {
   "cell_type": "markdown",
   "metadata": {},
   "source": [
    "### Column list Values"
   ]
  },
  {
   "cell_type": "code",
   "execution_count": 4,
   "metadata": {
    "scrolled": false
   },
   "outputs": [
    {
     "data": {
      "text/plain": [
       "array(['Instance', 'Year of Record', 'Gender', 'Age', 'Country',\n",
       "       'Size of City', 'Profession', 'University Degree', 'Wears Glasses',\n",
       "       'Hair Color', 'Body Height [cm]', 'Income in EUR'], dtype='<U17')"
      ]
     },
     "execution_count": 4,
     "metadata": {},
     "output_type": "execute_result"
    }
   ],
   "source": [
    "np.asarray(list(df_input.columns))"
   ]
  },
  {
   "cell_type": "markdown",
   "metadata": {},
   "source": [
    "### Deleting Hair Color for better performance"
   ]
  },
  {
   "cell_type": "code",
   "execution_count": 5,
   "metadata": {},
   "outputs": [],
   "source": [
    "del df_input['Hair Color']"
   ]
  },
  {
   "cell_type": "code",
   "execution_count": 6,
   "metadata": {},
   "outputs": [],
   "source": [
    "del df_test['Hair Color']"
   ]
  },
  {
   "cell_type": "markdown",
   "metadata": {},
   "source": [
    "### Checking Null Value Count"
   ]
  },
  {
   "cell_type": "code",
   "execution_count": 7,
   "metadata": {},
   "outputs": [
    {
     "data": {
      "text/plain": [
       "Instance                0\n",
       "Year of Record        441\n",
       "Gender               7432\n",
       "Age                   494\n",
       "Country                 0\n",
       "Size of City            0\n",
       "Profession            322\n",
       "University Degree    7370\n",
       "Wears Glasses           0\n",
       "Body Height [cm]        0\n",
       "Income in EUR           0\n",
       "dtype: int64"
      ]
     },
     "execution_count": 7,
     "metadata": {},
     "output_type": "execute_result"
    }
   ],
   "source": [
    "df_input.isnull().sum()"
   ]
  },
  {
   "cell_type": "code",
   "execution_count": 8,
   "metadata": {},
   "outputs": [
    {
     "data": {
      "text/plain": [
       "Instance                 0\n",
       "Year of Record         295\n",
       "Gender                4862\n",
       "Age                    279\n",
       "Country                  0\n",
       "Size of City             0\n",
       "Profession             195\n",
       "University Degree     4857\n",
       "Wears Glasses            0\n",
       "Body Height [cm]         0\n",
       "Income               73230\n",
       "dtype: int64"
      ]
     },
     "execution_count": 8,
     "metadata": {},
     "output_type": "execute_result"
    }
   ],
   "source": [
    "df_test.isnull().sum()"
   ]
  },
  {
   "cell_type": "markdown",
   "metadata": {},
   "source": [
    "### Filling Missing Values with mean value"
   ]
  },
  {
   "cell_type": "code",
   "execution_count": 9,
   "metadata": {},
   "outputs": [],
   "source": [
    "df_input = df_input.fillna(df_input.mean())"
   ]
  },
  {
   "cell_type": "code",
   "execution_count": 10,
   "metadata": {},
   "outputs": [],
   "source": [
    "df_test = df_test.fillna(df_test.mean())"
   ]
  },
  {
   "cell_type": "markdown",
   "metadata": {},
   "source": [
    "### Filling Missing string Value with mode value"
   ]
  },
  {
   "cell_type": "code",
   "execution_count": 11,
   "metadata": {
    "scrolled": true
   },
   "outputs": [],
   "source": [
    "df_input[\"Gender\"] = df_input[\"Gender\"].fillna(df_input[\"Gender\"].mode()[0])\n",
    "df_input[\"Profession\"] = df_input[\"Profession\"].fillna(df_input[\"Profession\"].mode()[0])\n",
    "df_input[\"University Degree\"] = df_input[\"University Degree\"].fillna(df_input[\"University Degree\"].mode()[0])"
   ]
  },
  {
   "cell_type": "code",
   "execution_count": 12,
   "metadata": {},
   "outputs": [],
   "source": [
    "df_test[\"Gender\"] = df_test[\"Gender\"].fillna(df_test[\"Gender\"].mode()[0])\n",
    "df_test[\"Profession\"] = df_test[\"Profession\"].fillna(df_test[\"Profession\"].mode()[0])\n",
    "df_test[\"University Degree\"] = df_test[\"University Degree\"].fillna(df_test[\"University Degree\"].mode()[0])"
   ]
  },
  {
   "cell_type": "markdown",
   "metadata": {},
   "source": [
    "### Checking if NULL Values are gone or not"
   ]
  },
  {
   "cell_type": "code",
   "execution_count": 13,
   "metadata": {
    "scrolled": true
   },
   "outputs": [
    {
     "data": {
      "text/plain": [
       "Instance             0\n",
       "Year of Record       0\n",
       "Gender               0\n",
       "Age                  0\n",
       "Country              0\n",
       "Size of City         0\n",
       "Profession           0\n",
       "University Degree    0\n",
       "Wears Glasses        0\n",
       "Body Height [cm]     0\n",
       "Income in EUR        0\n",
       "dtype: int64"
      ]
     },
     "execution_count": 13,
     "metadata": {},
     "output_type": "execute_result"
    }
   ],
   "source": [
    "df_input.isnull().sum()"
   ]
  },
  {
   "cell_type": "code",
   "execution_count": 14,
   "metadata": {},
   "outputs": [
    {
     "data": {
      "text/plain": [
       "Instance                 0\n",
       "Year of Record           0\n",
       "Gender                   0\n",
       "Age                      0\n",
       "Country                  0\n",
       "Size of City             0\n",
       "Profession               0\n",
       "University Degree        0\n",
       "Wears Glasses            0\n",
       "Body Height [cm]         0\n",
       "Income               73230\n",
       "dtype: int64"
      ]
     },
     "execution_count": 14,
     "metadata": {},
     "output_type": "execute_result"
    }
   ],
   "source": [
    "df_test.isnull().sum()"
   ]
  },
  {
   "cell_type": "markdown",
   "metadata": {},
   "source": [
    "### Applying filter to reduce Garbage Value"
   ]
  },
  {
   "cell_type": "code",
   "execution_count": 15,
   "metadata": {},
   "outputs": [],
   "source": [
    "from scipy.signal import lfilter\n",
    "\n",
    "n = 125  # the larger n is, the smoother curve will be\n",
    "b = [1.0 / n] * n\n",
    "a = 1\n",
    "df_input[[\"Year of Record\", \"Age\", \"Size of City\", \"Wears Glasses\", \"Body Height [cm]\"]] = lfilter(b,a,df_input[[\"Year of Record\", \"Age\", \"Size of City\", \"Wears Glasses\", \"Body Height [cm]\"]])"
   ]
  },
  {
   "cell_type": "code",
   "execution_count": 16,
   "metadata": {},
   "outputs": [],
   "source": [
    "from scipy.signal import lfilter\n",
    "\n",
    "n = 125  # the larger n is, the smoother curve will be\n",
    "b = [1.0 / n] * n\n",
    "a = 1\n",
    "df_test[[\"Year of Record\", \"Age\", \"Size of City\", \"Wears Glasses\", \"Body Height [cm]\"]] = lfilter(b,a,df_test[[\"Year of Record\", \"Age\", \"Size of City\", \"Wears Glasses\", \"Body Height [cm]\"]])"
   ]
  },
  {
   "cell_type": "markdown",
   "metadata": {},
   "source": [
    "### Cheking Values after filter"
   ]
  },
  {
   "cell_type": "code",
   "execution_count": 17,
   "metadata": {
    "scrolled": true
   },
   "outputs": [
    {
     "data": {
      "text/html": [
       "<div>\n",
       "<style scoped>\n",
       "    .dataframe tbody tr th:only-of-type {\n",
       "        vertical-align: middle;\n",
       "    }\n",
       "\n",
       "    .dataframe tbody tr th {\n",
       "        vertical-align: top;\n",
       "    }\n",
       "\n",
       "    .dataframe thead th {\n",
       "        text-align: right;\n",
       "    }\n",
       "</style>\n",
       "<table border=\"1\" class=\"dataframe\">\n",
       "  <thead>\n",
       "    <tr style=\"text-align: right;\">\n",
       "      <th></th>\n",
       "      <th>Instance</th>\n",
       "      <th>Year of Record</th>\n",
       "      <th>Gender</th>\n",
       "      <th>Age</th>\n",
       "      <th>Country</th>\n",
       "      <th>Size of City</th>\n",
       "      <th>Profession</th>\n",
       "      <th>University Degree</th>\n",
       "      <th>Wears Glasses</th>\n",
       "      <th>Body Height [cm]</th>\n",
       "      <th>Income in EUR</th>\n",
       "    </tr>\n",
       "  </thead>\n",
       "  <tbody>\n",
       "    <tr>\n",
       "      <th>0</th>\n",
       "      <td>1</td>\n",
       "      <td>15.976</td>\n",
       "      <td>0</td>\n",
       "      <td>16.304</td>\n",
       "      <td>Belarus</td>\n",
       "      <td>9935.744</td>\n",
       "      <td>steel workers</td>\n",
       "      <td>Bachelor</td>\n",
       "      <td>9935.744</td>\n",
       "      <td>9937.288</td>\n",
       "      <td>61031.94416</td>\n",
       "    </tr>\n",
       "    <tr>\n",
       "      <th>1</th>\n",
       "      <td>2</td>\n",
       "      <td>15.968</td>\n",
       "      <td>other</td>\n",
       "      <td>16.296</td>\n",
       "      <td>Singapore</td>\n",
       "      <td>12844.328</td>\n",
       "      <td>safe event coordinator</td>\n",
       "      <td>Master</td>\n",
       "      <td>12844.328</td>\n",
       "      <td>12845.816</td>\n",
       "      <td>91001.32764</td>\n",
       "    </tr>\n",
       "    <tr>\n",
       "      <th>2</th>\n",
       "      <td>3</td>\n",
       "      <td>16.144</td>\n",
       "      <td>other</td>\n",
       "      <td>16.368</td>\n",
       "      <td>Norway</td>\n",
       "      <td>10400.504</td>\n",
       "      <td>receivables/payables analyst</td>\n",
       "      <td>PhD</td>\n",
       "      <td>10400.512</td>\n",
       "      <td>10401.872</td>\n",
       "      <td>157982.17670</td>\n",
       "    </tr>\n",
       "    <tr>\n",
       "      <th>3</th>\n",
       "      <td>4</td>\n",
       "      <td>16.048</td>\n",
       "      <td>other</td>\n",
       "      <td>16.312</td>\n",
       "      <td>Cuba</td>\n",
       "      <td>6031.536</td>\n",
       "      <td>fleet assistant</td>\n",
       "      <td>No</td>\n",
       "      <td>6031.544</td>\n",
       "      <td>6032.912</td>\n",
       "      <td>45993.75793</td>\n",
       "    </tr>\n",
       "    <tr>\n",
       "      <th>4</th>\n",
       "      <td>5</td>\n",
       "      <td>16.080</td>\n",
       "      <td>female</td>\n",
       "      <td>16.448</td>\n",
       "      <td>United Arab Emirates</td>\n",
       "      <td>779.560</td>\n",
       "      <td>lead trainer</td>\n",
       "      <td>0</td>\n",
       "      <td>779.560</td>\n",
       "      <td>781.064</td>\n",
       "      <td>38022.16217</td>\n",
       "    </tr>\n",
       "  </tbody>\n",
       "</table>\n",
       "</div>"
      ],
      "text/plain": [
       "   Instance  Year of Record  Gender     Age               Country  \\\n",
       "0         1          15.976       0  16.304               Belarus   \n",
       "1         2          15.968   other  16.296             Singapore   \n",
       "2         3          16.144   other  16.368                Norway   \n",
       "3         4          16.048   other  16.312                  Cuba   \n",
       "4         5          16.080  female  16.448  United Arab Emirates   \n",
       "\n",
       "   Size of City                    Profession University Degree  \\\n",
       "0      9935.744                 steel workers          Bachelor   \n",
       "1     12844.328        safe event coordinator            Master   \n",
       "2     10400.504  receivables/payables analyst               PhD   \n",
       "3      6031.536               fleet assistant                No   \n",
       "4       779.560                  lead trainer                 0   \n",
       "\n",
       "   Wears Glasses  Body Height [cm]  Income in EUR  \n",
       "0       9935.744          9937.288    61031.94416  \n",
       "1      12844.328         12845.816    91001.32764  \n",
       "2      10400.512         10401.872   157982.17670  \n",
       "3       6031.544          6032.912    45993.75793  \n",
       "4        779.560           781.064    38022.16217  "
      ]
     },
     "execution_count": 17,
     "metadata": {},
     "output_type": "execute_result"
    }
   ],
   "source": [
    "df_input.head()"
   ]
  },
  {
   "cell_type": "code",
   "execution_count": 18,
   "metadata": {},
   "outputs": [
    {
     "data": {
      "text/html": [
       "<div>\n",
       "<style scoped>\n",
       "    .dataframe tbody tr th:only-of-type {\n",
       "        vertical-align: middle;\n",
       "    }\n",
       "\n",
       "    .dataframe tbody tr th {\n",
       "        vertical-align: top;\n",
       "    }\n",
       "\n",
       "    .dataframe thead th {\n",
       "        text-align: right;\n",
       "    }\n",
       "</style>\n",
       "<table border=\"1\" class=\"dataframe\">\n",
       "  <thead>\n",
       "    <tr style=\"text-align: right;\">\n",
       "      <th></th>\n",
       "      <th>Instance</th>\n",
       "      <th>Year of Record</th>\n",
       "      <th>Gender</th>\n",
       "      <th>Age</th>\n",
       "      <th>Country</th>\n",
       "      <th>Size of City</th>\n",
       "      <th>Profession</th>\n",
       "      <th>University Degree</th>\n",
       "      <th>Wears Glasses</th>\n",
       "      <th>Body Height [cm]</th>\n",
       "      <th>Income</th>\n",
       "    </tr>\n",
       "  </thead>\n",
       "  <tbody>\n",
       "    <tr>\n",
       "      <th>0</th>\n",
       "      <td>111994</td>\n",
       "      <td>15.936</td>\n",
       "      <td>other</td>\n",
       "      <td>16.104</td>\n",
       "      <td>Honduras</td>\n",
       "      <td>3149.320</td>\n",
       "      <td>senior project analyst</td>\n",
       "      <td>Master</td>\n",
       "      <td>3149.328</td>\n",
       "      <td>3150.552</td>\n",
       "      <td>NaN</td>\n",
       "    </tr>\n",
       "    <tr>\n",
       "      <th>1</th>\n",
       "      <td>111995</td>\n",
       "      <td>15.888</td>\n",
       "      <td>other</td>\n",
       "      <td>16.160</td>\n",
       "      <td>Kyrgyzstan</td>\n",
       "      <td>285.384</td>\n",
       "      <td>greeter</td>\n",
       "      <td>Bachelor</td>\n",
       "      <td>285.384</td>\n",
       "      <td>286.688</td>\n",
       "      <td>NaN</td>\n",
       "    </tr>\n",
       "    <tr>\n",
       "      <th>2</th>\n",
       "      <td>111996</td>\n",
       "      <td>15.952</td>\n",
       "      <td>unknown</td>\n",
       "      <td>16.376</td>\n",
       "      <td>Portugal</td>\n",
       "      <td>294.496</td>\n",
       "      <td>liaison</td>\n",
       "      <td>Bachelor</td>\n",
       "      <td>294.504</td>\n",
       "      <td>295.728</td>\n",
       "      <td>NaN</td>\n",
       "    </tr>\n",
       "    <tr>\n",
       "      <th>3</th>\n",
       "      <td>111997</td>\n",
       "      <td>15.872</td>\n",
       "      <td>0</td>\n",
       "      <td>16.104</td>\n",
       "      <td>Uruguay</td>\n",
       "      <td>11969.160</td>\n",
       "      <td>occupational therapist</td>\n",
       "      <td>No</td>\n",
       "      <td>11969.160</td>\n",
       "      <td>11970.392</td>\n",
       "      <td>NaN</td>\n",
       "    </tr>\n",
       "    <tr>\n",
       "      <th>4</th>\n",
       "      <td>111998</td>\n",
       "      <td>16.056</td>\n",
       "      <td>other</td>\n",
       "      <td>16.192</td>\n",
       "      <td>Serbia</td>\n",
       "      <td>981.480</td>\n",
       "      <td>portfolio manager</td>\n",
       "      <td>No</td>\n",
       "      <td>981.480</td>\n",
       "      <td>983.008</td>\n",
       "      <td>NaN</td>\n",
       "    </tr>\n",
       "  </tbody>\n",
       "</table>\n",
       "</div>"
      ],
      "text/plain": [
       "   Instance  Year of Record   Gender     Age     Country  Size of City  \\\n",
       "0    111994          15.936    other  16.104    Honduras      3149.320   \n",
       "1    111995          15.888    other  16.160  Kyrgyzstan       285.384   \n",
       "2    111996          15.952  unknown  16.376    Portugal       294.496   \n",
       "3    111997          15.872        0  16.104     Uruguay     11969.160   \n",
       "4    111998          16.056    other  16.192      Serbia       981.480   \n",
       "\n",
       "               Profession University Degree  Wears Glasses  Body Height [cm]  \\\n",
       "0  senior project analyst            Master       3149.328          3150.552   \n",
       "1                 greeter          Bachelor        285.384           286.688   \n",
       "2                 liaison          Bachelor        294.504           295.728   \n",
       "3  occupational therapist                No      11969.160         11970.392   \n",
       "4       portfolio manager                No        981.480           983.008   \n",
       "\n",
       "   Income  \n",
       "0     NaN  \n",
       "1     NaN  \n",
       "2     NaN  \n",
       "3     NaN  \n",
       "4     NaN  "
      ]
     },
     "execution_count": 18,
     "metadata": {},
     "output_type": "execute_result"
    }
   ],
   "source": [
    "df_test.head()"
   ]
  },
  {
   "cell_type": "markdown",
   "metadata": {},
   "source": [
    "### Replace 0 with unknown in Gender Column"
   ]
  },
  {
   "cell_type": "code",
   "execution_count": 19,
   "metadata": {},
   "outputs": [],
   "source": [
    "df_input.Gender = df_input.Gender.replace('0', 'unknown')\n",
    "df_test.Gender = df_test.Gender.replace('0', 'unknown')"
   ]
  },
  {
   "cell_type": "markdown",
   "metadata": {},
   "source": [
    "### Applying OneHot on Columns with String Values"
   ]
  },
  {
   "cell_type": "code",
   "execution_count": 20,
   "metadata": {},
   "outputs": [
    {
     "data": {
      "text/plain": [
       "(111993, 1516)"
      ]
     },
     "execution_count": 20,
     "metadata": {},
     "output_type": "execute_result"
    }
   ],
   "source": [
    "df_input = pd.concat((df_input,pd.get_dummies(df_input.Gender)),1)\n",
    "del df_input['Gender']\n",
    "df_input = pd.concat((df_input,pd.get_dummies(df_input.Profession)),1)\n",
    "del df_input['Profession']\n",
    "df_input = pd.concat((df_input,pd.get_dummies(df_input['University Degree'])),1)\n",
    "del df_input['University Degree']\n",
    "df_input = pd.concat((df_input,pd.get_dummies(df_input['Country'])),1)\n",
    "del df_input['Country']\n",
    "df_input.shape"
   ]
  },
  {
   "cell_type": "code",
   "execution_count": 21,
   "metadata": {},
   "outputs": [
    {
     "data": {
      "text/plain": [
       "(73230, 1498)"
      ]
     },
     "execution_count": 21,
     "metadata": {},
     "output_type": "execute_result"
    }
   ],
   "source": [
    "df_test = pd.concat((df_test,pd.get_dummies(df_test.Gender)),1)\n",
    "del df_test['Gender']\n",
    "df_test = pd.concat((df_test,pd.get_dummies(df_test.Profession)),1)\n",
    "del df_test['Profession']\n",
    "df_test = pd.concat((df_test,pd.get_dummies(df_test['University Degree'])),1)\n",
    "del df_test['University Degree']\n",
    "df_test = pd.concat((df_test,pd.get_dummies(df_test['Country'])),1)\n",
    "del df_test['Country']\n",
    "df_test.shape"
   ]
  },
  {
   "cell_type": "markdown",
   "metadata": {},
   "source": [
    "### Arrange Both the tables with same number of column's for applying Linear Regression."
   ]
  },
  {
   "cell_type": "code",
   "execution_count": 22,
   "metadata": {},
   "outputs": [
    {
     "data": {
      "text/plain": [
       "(111993, 1481)"
      ]
     },
     "execution_count": 22,
     "metadata": {},
     "output_type": "execute_result"
    }
   ],
   "source": [
    "del_val = list(set(list(df_input.columns) ) - set(list(df_test.columns) ) - set(['Income in EUR']))\n",
    "del_val = np.asarray(del_val)\n",
    "df_input.drop(del_val, axis=1, inplace=True)\n",
    "df_input.shape"
   ]
  },
  {
   "cell_type": "code",
   "execution_count": 23,
   "metadata": {},
   "outputs": [
    {
     "data": {
      "text/plain": [
       "(73230, 1481)"
      ]
     },
     "execution_count": 23,
     "metadata": {},
     "output_type": "execute_result"
    }
   ],
   "source": [
    "del_val = list(set(list(df_test.columns) ) - set(list(df_input.columns) ) - set(['Income']))\n",
    "del_val = np.asarray(del_val)\n",
    "df_test.drop(del_val, axis=1, inplace=True)\n",
    "df_test.shape"
   ]
  },
  {
   "cell_type": "markdown",
   "metadata": {},
   "source": [
    "### Applying Linear Regression\n",
    "### Taking last 30,000 entries for test data and remaining for training purpose"
   ]
  },
  {
   "cell_type": "code",
   "execution_count": 24,
   "metadata": {},
   "outputs": [
    {
     "name": "stdout",
     "output_type": "stream",
     "text": [
      "0.7155966843114785\n"
     ]
    }
   ],
   "source": [
    "from sklearn.linear_model import LinearRegression\n",
    "X = df_input.loc[:, df_input.columns != 'Income in EUR'].values\n",
    "y = df_input[\"Income in EUR\"].values\n",
    "\n",
    "test_size = 30000\n",
    "\n",
    "X_train = X[:-test_size]\n",
    "y_train = y[:-test_size]\n",
    "\n",
    "X_test = X[-test_size:]\n",
    "y_test = y[-test_size:]\n",
    "\n",
    "clf = LinearRegression().fit(X_train, y_train)\n",
    "clf.fit(X_train, y_train)\n",
    "\n",
    "print(clf.score(X_test, y_test))"
   ]
  },
  {
   "cell_type": "code",
   "execution_count": 25,
   "metadata": {},
   "outputs": [
    {
     "name": "stdout",
     "output_type": "stream",
     "text": [
      "8147.643511604052 29027.49544\n",
      "199266.32885057805 136765.7695\n",
      "409953.97731478093 356266.2085\n",
      "475361.1944713625 400708.9818\n",
      "58115.31711823819 60775.30183\n",
      "26525.250171254855 32761.244039999998\n",
      "13223.31678969739 37810.76192\n",
      "64013.035078178626 51157.76369\n",
      "687.7610303121619 6662.099034000001\n",
      "-24239.97402601363 17450.05561\n",
      "82862.2023665416 27387.2982\n",
      "35862.907741616946 64724.876729999996\n",
      "150487.78605980752 199764.8093\n",
      "42395.371489706915 7928.719048999999\n",
      "38886.11228091596 39949.23942\n",
      "23450.448914249893 716212.0\n",
      "132346.7341938722 38091.90994\n",
      "-17470.661530424375 15314.80641\n",
      "304935.0255366671 248592.5746\n",
      "95972.2711017835 63535.84277\n",
      "13750.320563744288 23929.54421\n",
      "-5419.121902514715 22784.3852\n",
      "154702.01739985822 87100.09671\n",
      "39191.85363371251 814061.0\n",
      "382522.6173969018 304184.5087\n",
      "26333.060362409335 29845.551710000003\n",
      "61980.297017059755 35315.76195\n",
      "-51286.46783177974 25006.634169999998\n",
      "161953.31096727727 169207.2925\n",
      "109397.18390471814 49001.84602\n",
      "62752.11283430038 54110.20522\n",
      "95055.20492465375 36634.830539999995\n",
      "101787.9402306783 77649.2549\n",
      "199225.73350007413 176066.1597\n",
      "20767.097669194918 44232.480910000006\n",
      "152649.8408408868 114728.2599\n",
      "86176.49091191171 41170.12631\n",
      "61860.24697040161 53387.879839999994\n",
      "304419.3561963546 298480.2818\n",
      "361802.43787933467 436554.098\n",
      "-14111.391073633451 26846.649289999998\n",
      "52078.02998931287 42257.1474\n",
      "131194.11834652303 122066.2792\n",
      "143559.19525940297 168829.7129\n",
      "-31905.06116502406 5652.53993\n",
      "91898.74748729123 29999.878539999998\n",
      "240874.43685765145 160726.6985\n",
      "101973.7745652902 124197.1217\n",
      "31908.541150401812 66582.01802\n",
      "77079.55522740958 51155.54683\n",
      "27137.910608123522 28881.51165\n",
      "7290.661327670794 30665.86731\n",
      "38076.03435392259 50312.55594\n",
      "107322.52661825297 118491.9178\n",
      "456798.6005317825 352915.0788\n",
      "150.9588856282644 19913.898830000002\n",
      "-748.1357490015216 24206.82341\n",
      "-19506.04974103393 16666.73699\n",
      "174313.95014704159 174678.8819\n",
      "3307.355250846129 29418.079189999997\n",
      "97303.10407157568 81356.44209\n",
      "212118.17957251845 140549.9227\n",
      "111508.82373456238 37215.88683\n",
      "127772.21790630696 90229.69744\n",
      "18239.357674788218 21762.0377\n",
      "18793.017634585034 42161.26763\n",
      "-53363.239848185796 18374.6426\n",
      "106215.8708883035 131675.2045\n",
      "40676.809733222704 61617.762689999996\n",
      "126908.20204090653 106878.1286\n",
      "151124.43510229466 136930.6665\n",
      "113638.66141350148 124892.8367\n",
      "-34258.663123343606 3735.443686\n",
      "132345.38461310742 98370.17869\n",
      "15041.86507897405 16118.586819999999\n",
      "105502.6463417518 83003.93509\n",
      "181641.49775905488 198518.0307\n",
      "203218.72444052575 310512.6526\n",
      "301907.2280615675 467698.5099\n",
      "25263.693737100344 31375.9539\n",
      "60937.67495972989 48759.3889\n",
      "78197.06100304006 61028.58908\n",
      "94393.76891168533 22231.637000000002\n",
      "103211.06005484937 86906.43071\n",
      "76439.86432559369 68089.3465\n",
      "472181.19734461186 326437.597\n",
      "-2983.3125900928862 19430.31155\n",
      "54020.62809586106 22753.85615\n",
      "57569.88101823209 38651.71944\n",
      "200193.24694101093 157681.586\n",
      "-18856.429732729215 29960.44672\n",
      "86868.89477462647 70229.23443\n",
      "17539.5648585069 36747.83793\n",
      "126994.41169841168 66332.64235\n",
      "1166.7110832440667 34550.130730000004\n",
      "43380.65524060605 42991.86597\n",
      "40517.6498053777 69072.782\n",
      "74577.98074216722 39579.119230000004\n",
      "45548.31812388776 39848.44764\n",
      "256418.45616979478 417135.4582\n",
      "-52495.49445511075 -32.82780892\n",
      "21376.628193329554 54347.87463\n",
      "13267.355580877047 35667.08367\n",
      "144449.75743187545 173999.2882\n",
      "89394.88227595342 37722.36488\n",
      "201280.13508703886 105401.4728\n",
      "94989.22744042752 114226.8014\n",
      "142776.2245201352 73248.97493\n",
      "595241.4617372262 1040885.212\n",
      "43687.592902730685 44697.1429\n",
      "153701.12020104704 158423.7909\n",
      "26695.516857042443 19488.7795\n",
      "133722.0115209329 94050.41328\n",
      "29774.134586404543 23228.9272\n",
      "38878.421369861346 41525.133010000005\n",
      "42566.20589227555 23838.17628\n",
      "-50522.087158848066 17426.37716\n",
      "79676.03803689359 76442.91055\n",
      "114984.1959950286 92134.15372999999\n",
      "139543.1134106177 124767.8869\n",
      "49905.459689091425 37747.18892\n",
      "-35858.30877797725 13912.700469999998\n",
      "23216.6519560623 13208.30821\n",
      "190749.45575101255 109343.1819\n",
      "216646.22212403594 218682.4999\n",
      "89166.02924830792 94603.99669\n",
      "195880.38800675748 224953.7613\n",
      "37010.86568887113 53738.06565\n",
      "39516.298548202496 27479.29995\n",
      "72580.51842505811 63200.1086\n",
      "10666.008359144907 5964.55664\n",
      "136535.5080817449 44451.1648\n",
      "75942.63452489255 76959.65238\n",
      "287470.14601990907 465360.3608\n",
      "19415.365994166117 21343.31871\n",
      "45984.761979195755 15224.689769999999\n",
      "96322.49170773802 69511.11935\n",
      "105902.93007422565 63999.467710000004\n",
      "64053.991335223895 36476.50763\n",
      "168099.8212429802 110172.4071\n",
      "56225.3721920955 59134.0983\n",
      "54362.3901615846 24059.05524\n",
      "14435.584342311602 21014.24602\n",
      "11164.489293183666 6111.031981\n",
      "230252.96635193704 254361.5837\n",
      "-1425.956310201902 15949.6159\n",
      "71796.77037054813 64698.39297000001\n",
      "50828.71413631318 70962.55425\n",
      "-2375.5282404911704 15828.98968\n",
      "24408.124510120135 37684.23706\n",
      "-47654.54252188327 22338.085059999998\n",
      "109163.82836974738 96926.7619\n",
      "-4708.085300921928 24028.22052\n",
      "34442.92897803662 44796.62993\n",
      "-78396.20613091113 19997.05313\n",
      "34284.76309839217 27460.38086\n",
      "68109.7880948293 51529.231380000005\n",
      "26797.831563423853 28863.896839999998\n",
      "-39894.90575592639 26226.65931\n",
      "90336.6873254287 96088.42145\n",
      "40472.204644310754 25118.939919999997\n",
      "191103.01023335336 245032.2772\n",
      "172862.3743543732 161948.1999\n",
      "61314.046165700536 48349.98109\n",
      "20064.169614504557 53073.662860000004\n",
      "679444.0467890012 718773.2843\n",
      "56676.704278479796 23577.88751\n",
      "11848.076302598696 37907.81248\n",
      "-89089.01377956988 20978.99515\n",
      "133300.82188494084 108856.6538\n",
      "73514.33562953351 51300.48297\n",
      "111707.67997319577 62260.26124\n",
      "132562.40354890702 76200.45397999999\n",
      "-20353.963501383085 31937.81118\n",
      "72969.06347734807 49450.53454\n",
      "47950.46228630422 69119.42004\n",
      "115201.17401809571 40092.722160000005\n",
      "60546.3524580705 53561.07099\n",
      "432958.654836725 299474.2979\n",
      "219873.06286752922 310508.5805\n",
      "388484.34445245145 217923.135\n",
      "447205.83786654053 860472.7856\n",
      "131978.22121937154 124901.0401\n",
      "35851.48435001029 47367.92993\n",
      "139807.1352761495 97338.29342\n",
      "156665.332122277 79388.35936\n",
      "56689.99064786313 72378.58477999999\n",
      "11123.001980246976 12303.61057\n",
      "55474.92219598172 60681.83821\n",
      "-51653.00917880656 30096.97505\n",
      "74530.76583034871 77518.7487\n",
      "70077.12156803487 100222.1662\n",
      "104465.57032353757 88947.39715\n",
      "114058.26391751645 82395.90926\n",
      "301424.58926113276 243017.3527\n",
      "120815.94054577826 34912.02345\n",
      "-13541.610099150334 8051.951218000001\n",
      "2831.76620478509 29664.03685\n",
      "329179.40249807714 385157.0482\n",
      "24949.02682764409 50937.97262\n"
     ]
    }
   ],
   "source": [
    "for X,y in list(zip(X_test, y_test))[:200]:\n",
    "    print(clf.predict([X])[0], y)"
   ]
  },
  {
   "cell_type": "markdown",
   "metadata": {},
   "source": [
    "### Writing in file"
   ]
  },
  {
   "cell_type": "code",
   "execution_count": 26,
   "metadata": {},
   "outputs": [],
   "source": [
    "test_X = df_test.loc[:, df_test.columns != 'Income'].values\n",
    "prediction_value = clf.predict(test_X)"
   ]
  },
  {
   "cell_type": "code",
   "execution_count": 27,
   "metadata": {},
   "outputs": [],
   "source": [
    "df_test['Income'] = prediction_value\n",
    "file = df_test[['Instance', 'Income']]"
   ]
  },
  {
   "cell_type": "markdown",
   "metadata": {},
   "source": [
    "### File is Exported!."
   ]
  },
  {
   "cell_type": "code",
   "execution_count": 28,
   "metadata": {},
   "outputs": [],
   "source": [
    "export_csv = file.to_csv(\"tcd ml 2019-20 income prediction submission file.csv\", index = None, header = True)"
   ]
  },
  {
   "cell_type": "code",
   "execution_count": null,
   "metadata": {},
   "outputs": [],
   "source": []
  },
  {
   "cell_type": "code",
   "execution_count": null,
   "metadata": {},
   "outputs": [],
   "source": []
  }
 ],
 "metadata": {
  "kernelspec": {
   "display_name": "Python 3",
   "language": "python",
   "name": "python3"
  },
  "language_info": {
   "codemirror_mode": {
    "name": "ipython",
    "version": 3
   },
   "file_extension": ".py",
   "mimetype": "text/x-python",
   "name": "python",
   "nbconvert_exporter": "python",
   "pygments_lexer": "ipython3",
   "version": "3.7.3"
  }
 },
 "nbformat": 4,
 "nbformat_minor": 2
}
